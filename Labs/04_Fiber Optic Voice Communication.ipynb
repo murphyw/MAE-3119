{
 "cells": [
  {
   "cell_type": "markdown",
   "id": "56018ef1-e30f-4a53-b6ff-8c6be6c5bbfe",
   "metadata": {},
   "source": [
    "# Experiment 4: Fiber Optic Voice Communication\r\n",
    "\r\n",
    "## 4.1 Introduction and Purpose\r\n",
    "\r\n",
    "The purpose of this experiment is to demonstrate the concept of audio transmission through a fiber optic link. Students will explore the conversion of sound to light, transmission through an optical fiber, and reconversion back to sound. This experiment illustrates fundamental principles of fiber optic communication in an accessible and engaging manner.\r\n",
    "\r\n",
    "## 4.2 Equipment Required\r\n",
    "\r\n",
    "- Industrial Fiber Optics Optical Voice Link kit (fully assemTektronix TBS1052B Digital Oscilloscopeilloscope\r\n",
    "- Microphone (external, for tRIGOL Technologies DG1022Z Function Generator (as audio frequency generator)y generator\r\n",
    "- Multimeter\r\n",
    "- Ruler or measuring tape\r\n",
    "- Scissors\r\n",
    "\r\n",
    "## 4.3 Procedure, Part I: Setup and Basic Operation\r\n",
    "\r\n",
    "1. Examine the Optical Voice Link transmitter and receiver units. Identify key components such as the microphone, LED, photodetector, and speaker.\r\n",
    "2. Install a 9V battery in both the transmitter and receiver units.\r\n",
    "3. Connect the provided 3-meter fiber optic cable between the transmitter and receiver.\r\n",
    "4. Turn on both units and speak into the transmitter's microphone. Verify that your voice is reproduced by the receiver's speaker.\r\n",
    "\r\n",
    "## 4.4 Procedure, Part II: Signal Analysis\r\n",
    "\r\n",
    "1. Connect the oscilloscope to the transmitter's test points to observe the audio signal before optical conversion.\r\n",
    "2. Speak into the microphone and observe the waveform. Note the amplitude and frequency characteristics of speech.\r\n",
    "3. Now connect the oscilloscope to the receiver's output (before the speaker). Compare this waveform to the transmitter's signal, noting any differences in amplitude or shape.\r\n",
    "4. Use an audio frequency generator to input a 1 kHz sine wave into the transmitter (you may need to hold it near the microphone). Measure the amplitude of this signal at both the transmitter and receiver. Calculate the system's gain or loss.\r\n",
    "\r\n",
    "## 4.5 Procedure, Part III: Fiber Optic Characteristics\r\n",
    "\r\n",
    "1. Carefully disconnect the fiber optic cable from the receiver. In a dimly lit room, observe the light emitted from the end of the fiber while speaking into the transmitter.\r\n",
    "2. Reconnect the fiber and bend it at various angles. Note any changes in the received audio quality or volume.\r\n",
    "3. Cut the fiber optic cable in half (be careful!). Attempt to couple the two halves by holding the ends close together. Observe how alignment and separation affect the signal quality.\r\n",
    "\r\n",
    "## 4.6 Procedure, Part IV: Range Testing\r\n",
    "\r\n",
    "1. Using the full length of provided fiber (3 meters), measure the received signal strength or audio volume.\r\n",
    "2. If additional fiber is available, extend the link to 10 meters and 20 meters. Note any changes in signal quality or volume at these distances.\r\n",
    "3. For each distance, measure the propagation delay of the signal by comparing the timing of the transmitted and received signals on the oscilloscope.\r\n",
    "\r\n",
    "## 4.7 Laboratory Report\r\n",
    "\r\n",
    "Prepare a report including:\r\n",
    "\r\n",
    "1. Abstract: Summary of experiments performed and key findings\r\n",
    "2. Description of the Optical Voice Link system and experimental setups\r\n",
    "3. Oscilloscope screenshots and measurements from Parts II and IV\r\n",
    "4. Analysis of how fiber bending and misalignment affect signal quality\r\n",
    "5. Calculation of the speed of light in the fiber based on propagation delay measurements\r\n",
    "6. Discussion on the advantages and limitations of fiber optic communication observed in this experiment\r\n",
    "\r\n",
    "## 4.8 Additional Questions for Laboratory Report\r\n",
    "\r\n",
    "1. Based on your observations, estimate the bandwidth of this voice communication system. How does this compare to typical copper-wire telephone systems?\r\n",
    "2. Explain why fiber optic systems often use infrared light instead of visible light like in this kit.\r\n",
    "3. Research and briefly describe how this simple analog system differs from modern digital fiber optic communication systems.\r\n",
    "4. Discuss potential applications for short-range fiber optic links like the one demonstrated in this lab.\r\n",
    "5. If you were to design an improved version of this kit, what features or modifications would you suggest?"
   ]
  },
  {
   "cell_type": "code",
   "execution_count": null,
   "id": "8a5189f7-b28f-4551-90f4-62f3fc19196d",
   "metadata": {},
   "outputs": [],
   "source": []
  }
 ],
 "metadata": {
  "kernelspec": {
   "display_name": "Python 3 (ipykernel)",
   "language": "python",
   "name": "python3"
  },
  "language_info": {
   "codemirror_mode": {
    "name": "ipython",
    "version": 3
   },
   "file_extension": ".py",
   "mimetype": "text/x-python",
   "name": "python",
   "nbconvert_exporter": "python",
   "pygments_lexer": "ipython3",
   "version": "3.11.5"
  }
 },
 "nbformat": 4,
 "nbformat_minor": 5
}
